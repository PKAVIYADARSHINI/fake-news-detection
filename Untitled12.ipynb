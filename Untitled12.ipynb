{
  "nbformat": 4,
  "nbformat_minor": 0,
  "metadata": {
    "colab": {
      "provenance": [],
      "authorship_tag": "ABX9TyONoQHE+fkJNR2hNBETD/yj",
      "include_colab_link": true
    },
    "kernelspec": {
      "name": "python3",
      "display_name": "Python 3"
    },
    "language_info": {
      "name": "python"
    }
  },
  "cells": [
    {
      "cell_type": "markdown",
      "metadata": {
        "id": "view-in-github",
        "colab_type": "text"
      },
      "source": [
        "<a href=\"https://colab.research.google.com/github/PKAVIYADARSHINI/fake-news-detection/blob/main/Untitled12.ipynb\" target=\"_parent\"><img src=\"https://colab.research.google.com/assets/colab-badge.svg\" alt=\"Open In Colab\"/></a>"
      ]
    },
    {
      "cell_type": "code",
      "execution_count": 7,
      "metadata": {
        "colab": {
          "base_uri": "https://localhost:8080/"
        },
        "id": "X0MCCm0vhmwI",
        "outputId": "071923fd-9249-47fd-9d96-15f7bcc97d11"
      },
      "outputs": [
        {
          "output_type": "stream",
          "name": "stdout",
          "text": [
            "KNN Accuracy: 0.6885523385300668\n",
            "KNN Classification Report:\n",
            "               precision    recall  f1-score   support\n",
            "\n",
            "           0       0.63      0.98      0.77      5940\n",
            "           1       0.94      0.36      0.52      5285\n",
            "\n",
            "    accuracy                           0.69     11225\n",
            "   macro avg       0.79      0.67      0.65     11225\n",
            "weighted avg       0.78      0.69      0.65     11225\n",
            "\n",
            "Logistic Regression Accuracy: 0.9831625835189309\n",
            "Decision Tree Accuracy: 0.9960801781737194\n",
            "Gradient Boosting Classifier Accuracy: 0.995902004454343\n",
            "Random Forest Accuracy: 0.9874387527839643\n",
            "KNN Accuracy: 0.6885523385300668\n",
            "\n",
            "\n",
            "LR Prediction: Not A Fake News \n",
            "DT Prediction: Fake News \n",
            "GBC Prediction: Fake News \n",
            "RFC Prediction: Fake News \n",
            "KNN Prediction: Fake News\n",
            "\n",
            "\n",
            "LR Prediction: Fake News \n",
            "DT Prediction: Fake News \n",
            "GBC Prediction: Fake News \n",
            "RFC Prediction: Fake News \n",
            "KNN Prediction: Fake News\n"
          ]
        }
      ],
      "source": [
        "# Import necessary libraries\n",
        "import pandas as pd\n",
        "import numpy as np\n",
        "import seaborn as sns\n",
        "import matplotlib.pyplot as plt\n",
        "from sklearn.model_selection import train_test_split\n",
        "from sklearn.metrics import accuracy_score, classification_report\n",
        "from sklearn.linear_model import LogisticRegression\n",
        "from sklearn.tree import DecisionTreeClassifier\n",
        "from sklearn.ensemble import GradientBoostingClassifier, RandomForestClassifier\n",
        "from sklearn.feature_extraction.text import TfidfVectorizer\n",
        "from sklearn.neighbors import KNeighborsClassifier\n",
        "import re\n",
        "import string\n",
        "\n",
        "# Load datasets\n",
        "df_fake = pd.read_csv(\"/Fake.csv (3).zip\")\n",
        "df_true = pd.read_csv(\"/True.csv (2).zip\")\n",
        "\n",
        "# Label the datasets\n",
        "df_fake[\"class\"] = 0  # Fake news labeled as 0\n",
        "df_true[\"class\"] = 1  # True news labeled as 1\n",
        "\n",
        "# Combine datasets\n",
        "df = pd.concat([df_fake, df_true]).reset_index(drop=True)\n",
        "\n",
        "# Shuffle the dataset\n",
        "df = df.sample(frac=1).reset_index(drop=True)\n",
        "\n",
        "# Preprocess the text\n",
        "def wordopt(text):\n",
        "    text = text.lower()\n",
        "    text = re.sub(r'\\[.*?\\]', '', text)\n",
        "    text = re.sub(r'https?://\\S+|www\\.\\S+', '', text)\n",
        "    text = re.sub(r'<.*?>+', '', text)\n",
        "    text = re.sub(r'[%s]' % re.escape(string.punctuation), '', text)\n",
        "    text = re.sub(r'\\n', '', text)\n",
        "    text = re.sub(r'\\w*\\d\\w*', '', text)\n",
        "    return text\n",
        "\n",
        "df['text'] = df['text'].apply(wordopt)\n",
        "\n",
        "# Split features and target\n",
        "x = df['text']\n",
        "y = df['class']\n",
        "\n",
        "# Text vectorization\n",
        "vectorization = TfidfVectorizer()\n",
        "x = vectorization.fit_transform(x)\n",
        "\n",
        "# Split into train and test sets\n",
        "x_train, x_test, y_train, y_test = train_test_split(x, y, test_size=0.25, random_state=42)\n",
        "\n",
        "# Logistic Regression\n",
        "LR = LogisticRegression()\n",
        "LR.fit(x_train, y_train)\n",
        "pred_lr = LR.predict(x_test)\n",
        "\n",
        "# Decision Tree Classifier\n",
        "DT = DecisionTreeClassifier()\n",
        "DT.fit(x_train, y_train)\n",
        "pred_dt = DT.predict(x_test)\n",
        "\n",
        "# Gradient Boosting Classifier\n",
        "GBC = GradientBoostingClassifier(random_state=0)\n",
        "GBC.fit(x_train, y_train)\n",
        "pred_gbc = GBC.predict(x_test)\n",
        "\n",
        "# Random Forest Classifier\n",
        "RFC = RandomForestClassifier(random_state=0)\n",
        "RFC.fit(x_train, y_train)\n",
        "pred_rfc = RFC.predict(x_test)\n",
        "\n",
        "# K-Nearest Neighbors Classifier\n",
        "knn = KNeighborsClassifier(n_neighbors=5)\n",
        "knn.fit(x_train, y_train)\n",
        "pred_knn = knn.predict(x_test)\n",
        "\n",
        "# Evaluate KNN\n",
        "accuracy_knn = accuracy_score(y_test, pred_knn)\n",
        "print(\"KNN Accuracy:\", accuracy_knn)\n",
        "print(\"KNN Classification Report:\\n\", classification_report(y_test, pred_knn))\n",
        "\n",
        "# Manual Testing Function\n",
        "def output_lable(n):\n",
        "    if n == 0:\n",
        "        return \"Fake News\"\n",
        "    elif n == 1:\n",
        "        return \"Not A Fake News\"\n",
        "\n",
        "def manual_testing(news):\n",
        "    testing_news = {\"text\": [news]}\n",
        "    new_def_test = pd.DataFrame(testing_news)\n",
        "    new_def_test[\"text\"] = new_def_test[\"text\"].apply(wordopt)\n",
        "    new_x_test = new_def_test[\"text\"]\n",
        "    new_xv_test = vectorization.transform(new_x_test)\n",
        "\n",
        "    pred_LR = LR.predict(new_xv_test)\n",
        "    pred_DT = DT.predict(new_xv_test)\n",
        "    pred_GBC = GBC.predict(new_xv_test)\n",
        "    pred_RFC = RFC.predict(new_xv_test)\n",
        "    pred_KNN = knn.predict(new_xv_test)\n",
        "\n",
        "    return print(\n",
        "        \"\\n\\nLR Prediction: {} \\nDT Prediction: {} \\nGBC Prediction: {} \\nRFC Prediction: {} \\nKNN Prediction: {}\".format(\n",
        "            output_lable(pred_LR[0]),\n",
        "            output_lable(pred_DT[0]),\n",
        "            output_lable(pred_GBC[0]),\n",
        "            output_lable(pred_RFC[0]),\n",
        "            output_lable(pred_KNN[0]),\n",
        "        )\n",
        "    )\n",
        "\n",
        "# Display outputs of all models\n",
        "print(\"Logistic Regression Accuracy:\", accuracy_score(y_test, pred_lr))\n",
        "print(\"Decision Tree Accuracy:\", accuracy_score(y_test, pred_dt))\n",
        "print(\"Gradient Boosting Classifier Accuracy:\", accuracy_score(y_test, pred_gbc))\n",
        "print(\"Random Forest Accuracy:\", accuracy_score(y_test, pred_rfc))\n",
        "print(\"KNN Accuracy:\", accuracy_knn)\n",
        "\n",
        "# Example of Manual Testing\n",
        "manual_testing(\"The government has launched a new policy to boost economic growth.\")\n",
        "manual_testing(\"Breaking news: Aliens have landed on Earth and are offering free energy solutions.\")\n",
        "\n"
      ]
    },
    {
      "cell_type": "markdown",
      "source": [],
      "metadata": {
        "id": "BacSAuwjbftB"
      }
    },
    {
      "cell_type": "code",
      "source": [
        "from google.colab import drive\n",
        "drive.mount('/content/drive')"
      ],
      "metadata": {
        "id": "HL-fwYewbd__"
      },
      "execution_count": null,
      "outputs": []
    },
    {
      "cell_type": "markdown",
      "source": [],
      "metadata": {
        "id": "FBQzk-1H--_W"
      }
    }
  ]
}